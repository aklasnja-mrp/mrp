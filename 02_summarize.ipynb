{
 "cells": [
  {
   "cell_type": "code",
   "execution_count": 18,
   "id": "flexible-rings",
   "metadata": {},
   "outputs": [],
   "source": [
    "import os\n",
    "import pandas as pd\n",
    "import re\n",
    "from functools import reduce\n",
    "import glob\n",
    "\n",
    "import seaborn as sns\n",
    "import matplotlib.pyplot as plt\n",
    "from matplotlib import colors\n",
    "\n",
    "import numpy as np\n",
    "import statsmodels.api as sm\n",
    "from statsmodels.formula.api import ols\n",
    "from statsmodels.stats.multicomp import pairwise_tukeyhsd\n",
    "#from statsmodels.stats.multicomp import multipletests\n",
    "\n",
    "from pptx import Presentation\n",
    "from pptx.util import Inches, Pt\n",
    "\n",
    "os.chdir(\"/Users/aklasnja/2021/\")\n",
    "\n",
    "dslist = ['gov2','robust04','cw09b','cw12b13', 'msmarco']\n",
    "\n",
    "#bias calc\n",
    "at_ranklist = [5, 10, 20, 30, 50]\n",
    "\n",
    "#a reference for model classes\n",
    "ref_models = pd.read_csv('reference_tables/ref_models.csv')\n",
    "\n",
    "ref = pd.read_csv('reference_tables/ref_queries.csv')\n",
    "\n",
    "#liwc variables\n",
    "sel = ['female', 'male',\n",
    "       'affect', 'posemo', 'negemo', 'anx', 'anger', 'sad', \\\n",
    "       'social', 'family', 'friend', \\\n",
    "       'cogproc', 'insight', 'cause', 'discrep', 'tentat', 'certain', 'differ', \\\n",
    "       'percept', 'see', 'hear', 'feel', 'bio', 'body', 'health', 'sexual', 'ingest', \\\n",
    "       'drives', 'affiliation', 'achieve', 'power', 'reward', 'risk', \\\n",
    "       'focuspast', 'focuspresent', 'focusfuture', \\\n",
    "       'relativ', 'motion', 'space', 'time', 'work', 'leisure', 'home', 'money', 'relig', 'death'] "
   ]
  },
  {
   "cell_type": "code",
   "execution_count": 19,
   "id": "supreme-queensland",
   "metadata": {},
   "outputs": [],
   "source": [
    "# join refs\n",
    "\n",
    "refs = list()\n",
    "for ds in dslist:\n",
    "    refs.append(pd.read_csv(os.path.join('retrievals',ds,ds+'_ref.csv')).assign(dataset = ds).filter(regex=r'^(?!Unnamed).*$'))\n",
    "refs = pd.concat(refs)\n",
    "refs.to_csv(os.path.join('retrievals','ref.csv'), index=True, header=True, sep=',')"
   ]
  },
  {
   "cell_type": "code",
   "execution_count": 2,
   "id": "apparent-consequence",
   "metadata": {},
   "outputs": [
    {
     "name": "stdout",
     "output_type": "stream",
     "text": [
      "gov2 - bias - unique qid: 111 - unique query: 580\n",
      "gov2 - liwc - unique qid: 111 - unique query: 580\n",
      "robust04 - bias - unique qid: 225 - unique query: 1611\n",
      "robust04 - liwc - unique qid: 225 - unique query: 1611\n",
      "cw09b - bias - unique qid: 125 - unique query: 486\n",
      "cw09b - liwc - unique qid: 125 - unique query: 486\n",
      "cw12b13 - bias - unique qid: 64 - unique query: 284\n",
      "cw12b13 - liwc - unique qid: 64 - unique query: 284\n",
      "msmarco - bias - unique qid: 5496 - unique query: 40641\n",
      "msmarco - liwc - unique qid: 5496 - unique query: 40641\n",
      "bias - unique qid: 6021 - unique query: 43602\n",
      "liwc - unique qid: 6021 - unique query: 43602\n"
     ]
    }
   ],
   "source": [
    "#1 join agg per query \n",
    "dsel = ['dataset','qid','method','query_no', 'qid_text', 'query_text']\n",
    "\n",
    "bias = list()\n",
    "liwc = list()\n",
    "for ds in dslist:\n",
    "    xbias = pd.read_csv(os.path.join('retrievals',ds,'r_bias_qe.csv')).assign(dataset = ds).filter(regex=r'^(?!Unnamed|level|index|class).*$')\n",
    "    print('{0} - bias - unique qid: {1} - unique query: {2}'.format(ds, xbias.groupby(['dataset','qid']).ngroups, xbias.groupby(['dataset','qid','method']).ngroups))\n",
    "    bias.append(xbias)\n",
    "    # key = query\n",
    "    xliwc = pd.read_csv(os.path.join('retrievals',ds,'r_liwc_qe.csv')).assign(dataset = ds).filter(regex=r'^(?!Unnamed|level|index|class).*$')\n",
    "    print('{0} - liwc - unique qid: {1} - unique query: {2}'.format(ds, xliwc.groupby(['dataset','qid']).ngroups, xliwc.groupby(['dataset','qid','method']).ngroups))\n",
    "    # key = doc -> query \n",
    "    xliwc_df = list()\n",
    "    for n in at_ranklist:\n",
    "        xxliwc = xliwc.query('rank <= @n').set_index(dsel).filter(sel) #----------qid method index\n",
    "        xxliwc = xxliwc.groupby(xxliwc.index).mean()  \n",
    "        xxliwc.columns = xxliwc.columns + '_' + str(n)\n",
    "        xxliwc.index = pd.MultiIndex.from_tuples(xxliwc.index, names=dsel)\n",
    "        xliwc_df.append(xxliwc.reset_index(drop=False))\n",
    "    liwc.append(reduce(lambda df1, df2: pd.merge(df1, df2, on=dsel), xliwc_df))\n",
    "bias = pd.concat(bias)\n",
    "print('bias - unique qid: {0} - unique query: {1}'.format(bias.groupby(['dataset','qid']).ngroups, bias.groupby(['dataset','qid','method']).ngroups))\n",
    "liwc = pd.concat(liwc)\n",
    "print('liwc - unique qid: {0} - unique query: {1}'.format(liwc.groupby(['dataset','qid']).ngroups, liwc.groupby(['dataset','qid','method']).ngroups))\n",
    "bias = bias.set_index(dsel, drop=True)\n",
    "r_qe = liwc.set_index(dsel, drop=True).join(bias, how='outer').reset_index(drop=False)\n",
    "r_qe = r_qe.set_index(['method'], drop=True).join(ref_models.set_index(['method']), how='left').reset_index(drop=False)\n",
    "r_qe.to_csv(os.path.join('retrievals','r_qe.csv'), index=True, header=True, sep=',')"
   ]
  },
  {
   "cell_type": "code",
   "execution_count": 83,
   "id": "realistic-divorce",
   "metadata": {},
   "outputs": [
    {
     "name": "stdout",
     "output_type": "stream",
     "text": [
      "gov2 - bias - unique qid: 111 - unique query: 580\n",
      "gov2 - liwc - unique qid: 111 - unique query: 580\n",
      "robust04 - bias - unique qid: 225 - unique query: 1611\n",
      "robust04 - liwc - unique qid: 225 - unique query: 1611\n",
      "cw09b - bias - unique qid: 125 - unique query: 486\n",
      "cw09b - liwc - unique qid: 125 - unique query: 486\n",
      "cw12b13 - bias - unique qid: 64 - unique query: 284\n",
      "cw12b13 - liwc - unique qid: 64 - unique query: 284\n",
      "msmarco - bias - unique qid: 5496 - unique query: 40641\n",
      "msmarco - liwc - unique qid: 5496 - unique query: 40641\n",
      "bias - unique qid: 6021 - unique query: 43602\n",
      "liwc - unique qid: 6021 - unique query: 43602\n"
     ]
    }
   ],
   "source": [
    "#2 join ratio per query\n",
    "\n",
    "dsel = ['dataset','qid','method']\n",
    "\n",
    "bias = list()\n",
    "liwc = list()\n",
    "for ds in dslist:\n",
    "    xbias = pd.read_csv(os.path.join('retrievals',ds,'ratio_bias_qe.csv')).assign(dataset = ds).filter(regex=r'^(?!Unnamed).*$')\n",
    "    bias.append(xbias)\n",
    "    print('{0} - bias - unique qid: {1} - unique query: {2}'.format(ds, xbias.groupby(['dataset','qid']).ngroups, xbias.groupby(['dataset','qid','method']).ngroups))\n",
    "    xliwc = pd.read_csv(os.path.join('retrievals',ds,'ratio_liwc_qe.csv')).assign(dataset = ds).filter(regex=r'^(?!Unnamed).*$')\n",
    "    print('{0} - liwc - unique qid: {1} - unique query: {2}'.format(ds, xliwc.groupby(['dataset','qid']).ngroups, xliwc.groupby(['dataset','qid','method']).ngroups))\n",
    "    liwc.append(xliwc)\n",
    "bias = pd.concat(bias)\n",
    "print('bias - unique qid: {0} - unique query: {1}'.format(bias.groupby(['dataset','qid']).ngroups, bias.groupby(['dataset','qid','method']).ngroups))\n",
    "liwc = pd.concat(liwc)\n",
    "print('liwc - unique qid: {0} - unique query: {1}'.format(liwc.groupby(['dataset','qid']).ngroups, liwc.groupby(['dataset','qid','method']).ngroups))\n",
    "\n",
    "bias = bias.set_index(dsel, drop=True)\n",
    "ratio_qe = liwc.set_index(dsel, drop=True).join(bias, how='outer').reset_index(drop=False)\n",
    "ratio_qe = ratio_qe.set_index(['method'], drop=False).join(ref_models.set_index(['method'], drop=True), how='left').reset_index(drop=True)\n",
    "ratio_qe.set_index(dsel, drop=False).to_csv(os.path.join('retrievals','ratio_qe.csv'), index=True, header=True, sep=',')\n"
   ]
  },
  {
   "cell_type": "code",
   "execution_count": 39,
   "id": "american-ratio",
   "metadata": {},
   "outputs": [],
   "source": [
    "#r_qe.set_index(['dataset','qid','method'])\n",
    "#ratio_qe.set_index(['dataset','qid','method'])\n",
    "#ck = r_qe.loc[set(r_qe.index).symmetric_difference(set(ratio_qe.index))].dropna()"
   ]
  },
  {
   "cell_type": "code",
   "execution_count": 27,
   "id": "clear-cattle",
   "metadata": {},
   "outputs": [
    {
     "name": "stdout",
     "output_type": "stream",
     "text": [
      "msmarco - liwc - unique qid: 5496 - unique query: 5496\n"
     ]
    }
   ],
   "source": [
    "#1 just qrels for msmarco\n",
    "\n",
    "dslist = ['msmarco']\n",
    "\n",
    "dsel = ['dataset','qid','method']\n",
    "\n",
    "liwc = list()\n",
    "for ds in dslist:\n",
    "    # key = query\n",
    "    xliwc = pd.read_csv(os.path.join('retrievals',ds,'r_liwc_qr.csv')).assign(dataset = ds, method = \"qrels\").filter(regex=r'^(?!Unnamed|level|index|class).*$')\n",
    "    print('{0} - liwc - unique qid: {1} - unique query: {2}'.format(ds, xliwc.groupby(['dataset','qid']).ngroups, xliwc.groupby(['dataset','qid','method']).ngroups))\n",
    "    # key = doc -> query \n",
    "    xliwc_df = list()\n",
    "    for n in at_ranklist:\n",
    "        xxliwc = xliwc.set_index(dsel).filter(sel) #----------qid method index\n",
    "        xxliwc = xxliwc.groupby(xxliwc.index).mean()  \n",
    "        xxliwc.columns = xxliwc.columns + '_' + str(n)\n",
    "        xxliwc.index = pd.MultiIndex.from_tuples(xxliwc.index, names=dsel)\n",
    "        xliwc_df.append(xxliwc.reset_index(drop=False))\n",
    "    liwc.append(reduce(lambda df1, df2: pd.merge(df1, df2, on=dsel), xliwc_df))\n",
    "r_qr = pd.concat(liwc)\n",
    "r_qr.to_csv(os.path.join('retrievals','r_qr.csv'), index=True, header=True, sep=',')\n"
   ]
  },
  {
   "cell_type": "code",
   "execution_count": null,
   "id": "responsible-spirit",
   "metadata": {},
   "outputs": [],
   "source": []
  }
 ],
 "metadata": {
  "kernelspec": {
   "display_name": "Python 3",
   "language": "python",
   "name": "python3"
  },
  "language_info": {
   "codemirror_mode": {
    "name": "ipython",
    "version": 3
   },
   "file_extension": ".py",
   "mimetype": "text/x-python",
   "name": "python",
   "nbconvert_exporter": "python",
   "pygments_lexer": "ipython3",
   "version": "3.8.7"
  }
 },
 "nbformat": 4,
 "nbformat_minor": 5
}
